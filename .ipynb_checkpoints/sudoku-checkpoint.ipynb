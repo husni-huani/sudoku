{
 "cells": [
  {
   "cell_type": "code",
   "execution_count": 1,
   "metadata": {},
   "outputs": [],
   "source": [
    "def board_to_num(board):\n",
    "    num = 0\n",
    "    for row in range(9):\n",
    "        for column in range(9):\n",
    "            num = (num << 4) + board[row][column]\n",
    "    return num\n",
    "\n",
    "def num_to_board(num):\n",
    "    board = [[0 for i in range(9)] for i in range(9)]\n",
    "    for row in range(9):\n",
    "        for column in range(9):\n",
    "            pos = (8-row)*36 + (8-column)*4\n",
    "            curr_val = (num >> pos) & 15\n",
    "            board[row][column] = curr_val\n",
    "    return board"
   ]
  },
  {
   "cell_type": "code",
   "execution_count": 2,
   "metadata": {},
   "outputs": [
    {
     "name": "stdout",
     "output_type": "stream",
     "text": [
      "[0, 0, 8, 0, 0, 7, 0, 0, 1]\n",
      "[0, 0, 0, 9, 0, 5, 0, 0, 0]\n",
      "[0, 1, 7, 0, 0, 3, 4, 0, 0]\n",
      "[3, 0, 0, 5, 0, 0, 0, 1, 0]\n",
      "[0, 0, 5, 0, 0, 2, 0, 0, 7]\n",
      "[0, 0, 9, 0, 0, 0, 0, 0, 3]\n",
      "[0, 0, 6, 0, 7, 0, 0, 3, 0]\n",
      "[5, 8, 0, 0, 0, 0, 6, 0, 0]\n",
      "[0, 4, 0, 2, 0, 0, 0, 0, 0]\n"
     ]
    }
   ],
   "source": [
    "board = [\n",
    "    [0,0,8,0,0,7,0,0,1],\n",
    "    [0,0,0,9,0,5,0,0,0],\n",
    "    [0,1,7,0,0,3,4,0,0],\n",
    "    [3,0,0,5,0,0,0,1,0],\n",
    "    [0,0,5,0,0,2,0,0,7],\n",
    "    [0,0,9,0,0,0,0,0,3],\n",
    "    [0,0,6,0,7,0,0,3,0],\n",
    "    [5,8,0,0,0,0,6,0,0],\n",
    "    [0,4,0,2,0,0,0,0,0]\n",
    "]\n",
    "\n",
    "num_board = board_to_num(board)\n",
    "board_1 = num_to_board(num_board)\n",
    "for row in board:\n",
    "    print(row)"
   ]
  },
  {
   "cell_type": "code",
   "execution_count": 58,
   "metadata": {},
   "outputs": [],
   "source": [
    "class sudoku_board():\n",
    "    def __init__(self, board):\n",
    "        self.num_board = board_to_num(board)\n",
    "        self.solution = 0\n",
    "    def show_board(self):\n",
    "        board = num_to_board(self.num_board)\n",
    "        str_show = ''\n",
    "        for row in range(9):\n",
    "            for column in range(9):\n",
    "                str_show += str(board[row][column]) + ' '\n",
    "            str_show += '\\n'\n",
    "        print(str_show)\n",
    "    def val_index(self, row, column):\n",
    "        pos = (8-row)*36 + (8-column)*4\n",
    "        return (self.num_board >> pos) & 15\n",
    "    \n",
    "    def change_block(self, row, column, num):\n",
    "#         if row==8 and column == 8:\n",
    "#             self.num_board = ((self.num_board >> 4) <<4) + num\n",
    "#         elif row==0 and column 0:\n",
    "#             back = self.num_board & ((1 << 321) -1)\n",
    "#             self.num_board = (num << 320) + back\n",
    "#         else:\n",
    "        pos = (8-row)*36 + (8-column)*4\n",
    "        back = self.num_board & ((1 << (pos)) -1)\n",
    "        front = self.num_board >> (pos+4)\n",
    "        self.num_board = (((front << 4) + num) << pos) + back\n",
    "        \n",
    "    def is_valid_num(self, row, column, num):\n",
    "        # check row\n",
    "        for j in range(9):\n",
    "            if num == self.val_index(row,j):\n",
    "                return False\n",
    "        # check column\n",
    "        for i in range(9):\n",
    "            if num == self.val_index(i, column):\n",
    "                return False\n",
    "        # check section\n",
    "        index_i = (row // 3)*3\n",
    "        index_j = (column // 3)*3\n",
    "        for add_i in range(3):\n",
    "            for add_j in range(3):\n",
    "                if num == self.val_index(index_i+add_i,index_j+add_j):\n",
    "                    return False\n",
    "        return True\n",
    "    def possible_num(self, row, column):\n",
    "        if self.val_index(row, column) != 0:\n",
    "            return []\n",
    "        ans = (1 << 9) -1\n",
    "        for j in range(9):\n",
    "            if self.val_index(row, j) != 0:\n",
    "                pos = 9-self.val_index(row, j)\n",
    "                back = ans & ((1 << (pos)) -1)\n",
    "                front = ans >> (pos+1)\n",
    "                ans = (front << (pos+1)) + back\n",
    "        for i in range(9):\n",
    "            if self.val_index(i, column) != 0:\n",
    "                pos = 9-self.val_index(i, column)\n",
    "                back = ans & ((1 << (pos)) -1)\n",
    "                front = ans >> (pos+1)\n",
    "                ans = (front << (pos+1)) + back \n",
    "        index_i = (row // 3)*3\n",
    "        index_j = (column // 3)*3\n",
    "        for add_i in range(3):\n",
    "            for add_j in range(3):\n",
    "                if self.val_index(index_i+add_i,index_j+add_j) != 0:\n",
    "                    pos = 9-self.val_index(index_i+add_i,index_j+add_j)\n",
    "                    back = ans & ((1 << (pos)) -1)\n",
    "                    front = ans >> (pos+1)\n",
    "                    ans = (front << (pos+1)) + back\n",
    "        arr_ans = []\n",
    "        for i in range(1,10):\n",
    "            if ans & (1 << (9-i)):\n",
    "                arr_ans.append(i)\n",
    "        return arr_ans\n",
    "    \n",
    "    def show_board_possible(self):\n",
    "        str_show = ''\n",
    "        for row in range(9):\n",
    "            for column in range(9):\n",
    "                str_show += str(len(self.possible_num(row, column))) + ' '\n",
    "            str_show += '\\n'\n",
    "        print(str_show)\n",
    "    \n",
    "    def solve_block(self, row, column):\n",
    "        # recursion function\n",
    "        # base case\n",
    "        if row == 8 and column == 8:\n",
    "            if self.val_index(8,8) != 0:\n",
    "                self.show_board()\n",
    "                print()\n",
    "                self.solution = self.num_board\n",
    "            else:\n",
    "                self.change_block(8,8, self.possible_num(8,8)[0])\n",
    "                self.show_board()\n",
    "                print()\n",
    "                self.solution = self.num_board\n",
    "            return True\n",
    "        if column == 8:\n",
    "            next_block = (row+1, 0)\n",
    "        else:\n",
    "            next_block  = (row, column + 1)\n",
    "        if board[row][column] != 0:\n",
    "            return self.solve_block(next_block[0], next_block[1])\n",
    "            \n",
    "        else:\n",
    "            if len(self.possible_num(row, column)) == 0:\n",
    "                return False\n",
    "            temp = self.num_board\n",
    "            for num in self.possible_num(row, column):\n",
    "                self.num_board = temp\n",
    "                self.change_block(row, column, num)\n",
    "                ans = self.solve_block(next_block[0], next_block[1])\n",
    "                if ans == True:\n",
    "                    return True\n",
    "    \n",
    "    def solve(self):\n",
    "        print(self.solve_block(0,0))"
   ]
  },
  {
   "cell_type": "code",
   "execution_count": 74,
   "metadata": {},
   "outputs": [
    {
     "name": "stdout",
     "output_type": "stream",
     "text": [
      "0 0 0 0 0 0 0 6 0 \n",
      "0 2 0 3 0 0 1 0 0 \n",
      "5 0 0 8 0 9 0 0 0 \n",
      "8 0 0 0 5 0 0 9 6 \n",
      "0 4 0 6 0 0 0 0 0 \n",
      "0 0 0 4 0 0 0 0 3 \n",
      "9 0 0 0 7 0 5 0 0 \n",
      "0 0 0 0 0 0 0 4 0 \n",
      "0 1 0 9 0 0 8 0 0 \n",
      "\n"
     ]
    }
   ],
   "source": [
    "board = [\n",
    "    [0,0,0,0,0,0,0,6,0],\n",
    "    [0,2,0,3,0,0,1,0,0],\n",
    "    [5,0,0,8,0,9,0,0,0],\n",
    "    [8,0,0,0,5,0,0,9,6],\n",
    "    [0,4,0,6,0,0,0,0,0],\n",
    "    [0,0,0,4,0,0,0,0,3],\n",
    "    [9,0,0,0,7,0,5,0,0],\n",
    "    [0,0,0,0,0,0,0,4,0],\n",
    "    [0,1,0,9,0,0,8,0,0]\n",
    "]\n",
    "\n",
    "sudoku = sudoku_board(board)\n",
    "sudoku.show_board()"
   ]
  },
  {
   "cell_type": "code",
   "execution_count": 56,
   "metadata": {},
   "outputs": [
    {
     "data": {
      "text/plain": [
       "[1, 7, 8]"
      ]
     },
     "execution_count": 56,
     "metadata": {},
     "output_type": "execute_result"
    }
   ],
   "source": [
    "sudoku.possible_num(0,3)"
   ]
  },
  {
   "cell_type": "code",
   "execution_count": null,
   "metadata": {},
   "outputs": [],
   "source": []
  },
  {
   "cell_type": "code",
   "execution_count": 75,
   "metadata": {},
   "outputs": [
    {
     "name": "stdout",
     "output_type": "stream",
     "text": [
      "3 7 8 5 1 4 9 6 2 \n",
      "4 2 9 3 6 7 1 8 5 \n",
      "5 6 1 8 2 9 3 7 4 \n",
      "8 3 2 7 5 1 4 9 6 \n",
      "7 4 5 6 9 3 2 1 8 \n",
      "1 9 6 4 8 2 7 5 3 \n",
      "9 8 4 2 7 6 5 3 1 \n",
      "2 5 7 1 3 8 6 4 9 \n",
      "6 1 3 9 4 5 8 2 7 \n",
      "\n",
      "\n",
      "True\n",
      "\n",
      " elapsed time :  12.833429098129272\n"
     ]
    }
   ],
   "source": [
    "from time import time\n",
    "\n",
    "start = time()\n",
    "sudoku.solve()\n",
    "\n",
    "print('\\n elapsed time : ', time()-start)"
   ]
  },
  {
   "cell_type": "code",
   "execution_count": 32,
   "metadata": {},
   "outputs": [
    {
     "data": {
      "text/plain": [
       "[1, 3, 4, 5, 6, 7, 8, 9]"
      ]
     },
     "execution_count": 32,
     "metadata": {},
     "output_type": "execute_result"
    }
   ],
   "source": [
    "sudoku.possible_num(0,0)"
   ]
  },
  {
   "cell_type": "code",
   "execution_count": 129,
   "metadata": {},
   "outputs": [
    {
     "name": "stdout",
     "output_type": "stream",
     "text": [
      "9 0 2 0 8 0 6 0 8 \n",
      "1 0 0 0 0 0 4 2 0 \n",
      "0 4 7 0 8 0 0 6 1 \n",
      "4 0 9 0 7 0 8 3 0 \n",
      "0 8 0 0 6 0 0 0 5 \n",
      "0 3 0 0 0 0 1 0 6 \n",
      "0 1 0 0 0 7 0 8 0 \n",
      "6 9 0 0 1 3 0 5 7 \n",
      "0 7 2 5 9 4 6 0 0 \n",
      "\n"
     ]
    }
   ],
   "source": [
    "board = [\n",
    "    [9,0,6,0,5,0,0,0,8],\n",
    "    [1,0,0,0,0,0,4,2,0],\n",
    "    [0,4,7,0,8,0,0,6,1],\n",
    "    [4,0,9,0,7,0,8,3,0],\n",
    "    [0,8,0,0,6,0,0,0,5],\n",
    "    [0,3,0,0,0,0,1,0,6],\n",
    "    [0,1,0,0,0,7,0,8,0],\n",
    "    [6,9,0,0,1,3,0,5,7],\n",
    "    [0,7,2,5,9,4,6,0,0]\n",
    "]\n",
    "\n",
    "sudoku.show_board()"
   ]
  },
  {
   "cell_type": "code",
   "execution_count": 21,
   "metadata": {},
   "outputs": [
    {
     "data": {
      "text/plain": [
       "'0b111111111'"
      ]
     },
     "execution_count": 21,
     "metadata": {},
     "output_type": "execute_result"
    }
   ],
   "source": [
    "bin((1 << 9) -1)"
   ]
  },
  {
   "cell_type": "code",
   "execution_count": 188,
   "metadata": {},
   "outputs": [
    {
     "name": "stdout",
     "output_type": "stream",
     "text": [
      "2\n",
      "[0, 2, 8, 0, 0, 7, 0, 0, 1]\n",
      "[0, 0, 0, 9, 0, 5, 0, 0, 0]\n",
      "[0, 1, 7, 0, 0, 3, 4, 0, 0]\n",
      "[3, 0, 0, 5, 0, 0, 0, 1, 0]\n",
      "[0, 0, 5, 0, 0, 2, 0, 0, 7]\n",
      "[0, 0, 9, 0, 0, 0, 0, 0, 3]\n",
      "[0, 0, 6, 0, 7, 0, 0, 3, 0]\n",
      "[5, 8, 0, 0, 0, 0, 6, 0, 0]\n",
      "[0, 4, 0, 2, 0, 0, 0, 4, 0]\n"
     ]
    }
   ],
   "source": [
    "board = [\n",
    "    [0,2,8,0,0,7,0,0,1],\n",
    "    [0,0,0,9,0,5,0,0,0],\n",
    "    [0,1,7,0,0,3,4,0,0],\n",
    "    [3,0,0,5,0,0,0,1,0],\n",
    "    [0,0,5,0,0,2,0,0,7],\n",
    "    [0,0,9,0,0,0,0,0,3],\n",
    "    [0,0,6,0,7,0,0,3,0],\n",
    "    [5,8,0,0,0,0,6,0,0],\n",
    "    [0,4,0,2,0,0,0,2,0]\n",
    "]\n",
    "num_board = board_to_num(board)\n",
    "\n",
    "row = 8\n",
    "column = 7\n",
    "num = 4\n",
    "\n",
    "pos = (8-row)*36 + (8-column)*4\n",
    "print((num_board >> pos) & 15)\n",
    "\n",
    "pos = (8-row)*36 + (8-column)*4\n",
    "back = num_board & ((1 << (pos)) -1)\n",
    "front = num_board >> (pos+4)\n",
    "num_board = (((front << 4) + num) << pos) + back\n",
    "\n",
    "board_1 = num_to_board(num_board)\n",
    "for row in board_1:\n",
    "    print(row)"
   ]
  },
  {
   "cell_type": "code",
   "execution_count": 181,
   "metadata": {},
   "outputs": [
    {
     "data": {
      "text/plain": [
       "'0b11111111111111111111111111111111111111111111111111111111111111111111111111111111111111111'"
      ]
     },
     "execution_count": 181,
     "metadata": {},
     "output_type": "execute_result"
    }
   ],
   "source": [
    "bin((1 << (pos+1)) -1)"
   ]
  },
  {
   "cell_type": "code",
   "execution_count": 26,
   "metadata": {},
   "outputs": [
    {
     "data": {
      "text/plain": [
       "'0b101111111'"
      ]
     },
     "execution_count": 26,
     "metadata": {},
     "output_type": "execute_result"
    }
   ],
   "source": [
    "ans = (1 << 9) -1\n",
    "\n",
    "num = 2\n",
    "pos = 9 - num\n",
    "\n",
    "back = ans & ((1 << (pos)) -1)\n",
    "front = ans >> (pos+1)\n",
    "ans = (front << (pos+1)) + back\n",
    "\n",
    "bin(ans)\n"
   ]
  },
  {
   "cell_type": "code",
   "execution_count": null,
   "metadata": {},
   "outputs": [],
   "source": []
  },
  {
   "cell_type": "code",
   "execution_count": null,
   "metadata": {},
   "outputs": [],
   "source": []
  },
  {
   "cell_type": "code",
   "execution_count": 61,
   "metadata": {},
   "outputs": [
    {
     "name": "stdout",
     "output_type": "stream",
     "text": [
      "False\n",
      "\n",
      " elapsed time :  0.0\n"
     ]
    }
   ],
   "source": [
    "# benchmark 1\n",
    "\n",
    "from time import time\n",
    "\n",
    "start = time()\n",
    "sudoku.solve()\n",
    "\n",
    "print('\\n elapsed time : ', time()-start)"
   ]
  },
  {
   "cell_type": "code",
   "execution_count": null,
   "metadata": {},
   "outputs": [],
   "source": []
  }
 ],
 "metadata": {
  "kernelspec": {
   "display_name": "Python 3",
   "language": "python",
   "name": "python3"
  },
  "language_info": {
   "codemirror_mode": {
    "name": "ipython",
    "version": 3
   },
   "file_extension": ".py",
   "mimetype": "text/x-python",
   "name": "python",
   "nbconvert_exporter": "python",
   "pygments_lexer": "ipython3",
   "version": "3.7.1"
  }
 },
 "nbformat": 4,
 "nbformat_minor": 2
}
